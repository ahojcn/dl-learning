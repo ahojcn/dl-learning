{
 "cells": [
  {
   "cell_type": "code",
   "execution_count": null,
   "metadata": {},
   "outputs": [],
   "source": [
    "# 1. 引入 opencv\n",
    "import cv2\n",
    "\n",
    "# 2. API\n",
    "#     1. 读取文件 2. 封装格式解析 3. 数据解码 4. 数据加载\n",
    "img = cv2.imread('01image.png', 1)  # 完成读取图片，第一个参数是图片名称，第二个参数是读取类型（0 读取灰度图；1 读取彩色图）\n",
    "\n",
    "# 展示图片\n",
    "cv2.imshow('image', img)  # 第一个参数是窗口名称，第二个参数是当前图片内容\n",
    "\n",
    "# 3. 程序暂停\n",
    "cv2.waitKey(0)"
   ]
  },
  {
   "cell_type": "code",
   "execution_count": null,
   "metadata": {},
   "outputs": [],
   "source": []
  }
 ],
 "metadata": {
  "kernelspec": {
   "display_name": "Python 3",
   "language": "python",
   "name": "python3"
  },
  "language_info": {
   "codemirror_mode": {
    "name": "ipython",
    "version": 3
   },
   "file_extension": ".py",
   "mimetype": "text/x-python",
   "name": "python",
   "nbconvert_exporter": "python",
   "pygments_lexer": "ipython3",
   "version": "3.6.8"
  }
 },
 "nbformat": 4,
 "nbformat_minor": 2
}

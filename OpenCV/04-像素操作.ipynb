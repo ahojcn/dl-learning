{
 "cells": [
  {
   "cell_type": "code",
   "execution_count": null,
   "metadata": {},
   "outputs": [
    {
     "name": "stdout",
     "output_type": "stream",
     "text": [
      "218 199 164\n"
     ]
    }
   ],
   "source": [
    "import cv2\n",
    "\n",
    "# opencv 是以 bgr 的形式表示颜色分量\n",
    "img = cv2.imread('01image.jpg', 1)  # 读取进来彩色图片\n",
    "(b, g, r) = img[100][100]\n",
    "print(b, g, r)\n",
    "\n",
    "# 像素写入，绘制一条直线，从第10行100列开始到 110行100列结束\n",
    "for i in range(1, 100):\n",
    "    img[10+i, 100] = (0, 0, 255)  # 红色\n",
    "    \n",
    "cv2.imshow('image', img)\n",
    "cv2.waitKey(0)  # 这里的参数是等待多少毫秒，给 0 表示一直等待"
   ]
  },
  {
   "cell_type": "code",
   "execution_count": null,
   "metadata": {},
   "outputs": [],
   "source": []
  }
 ],
 "metadata": {
  "kernelspec": {
   "display_name": "Python 3",
   "language": "python",
   "name": "python3"
  },
  "language_info": {
   "codemirror_mode": {
    "name": "ipython",
    "version": 3
   },
   "file_extension": ".py",
   "mimetype": "text/x-python",
   "name": "python",
   "nbconvert_exporter": "python",
   "pygments_lexer": "ipython3",
   "version": "3.6.8"
  }
 },
 "nbformat": 4,
 "nbformat_minor": 2
}

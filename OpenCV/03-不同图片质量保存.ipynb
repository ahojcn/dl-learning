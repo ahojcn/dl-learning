{
 "cells": [
  {
   "cell_type": "code",
   "execution_count": 4,
   "metadata": {},
   "outputs": [
    {
     "data": {
      "text/plain": [
       "True"
      ]
     },
     "execution_count": 4,
     "metadata": {},
     "output_type": "execute_result"
    }
   ],
   "source": [
    "import cv2\n",
    "\n",
    "img = cv2.imread('01image.jpg', 1)\n",
    "cv2.imwrite('03image.jpg', img, [cv2.IMWRITE_JPEG_QUALITY, 50])  # 0-100 有损压缩\n",
    "# 1M -> 100K 基本保证了图片质量"
   ]
  },
  {
   "cell_type": "code",
   "execution_count": 5,
   "metadata": {},
   "outputs": [
    {
     "data": {
      "text/plain": [
       "True"
      ]
     },
     "execution_count": 5,
     "metadata": {},
     "output_type": "execute_result"
    }
   ],
   "source": [
    "# jpg 有损压缩  png 无损压缩\n",
    "# png 还可以修改透明度属性 但是 jpg 不可以修改\n",
    "import cv2\n",
    "\n",
    "img = cv2.imread('01image.jpg', 1)\n",
    "cv2.imwrite('03-2image.png', img, [cv2.IMWRITE_PNG_COMPRESSION,0])\n",
    "# 对于 jpg 来说，数字越小 压缩比越高，图片质量损失严重，压缩范围 0~100\n",
    "# png 来说，数字越小，压缩比越低，压缩范围 0~9"
   ]
  },
  {
   "cell_type": "code",
   "execution_count": null,
   "metadata": {},
   "outputs": [],
   "source": []
  }
 ],
 "metadata": {
  "kernelspec": {
   "display_name": "Python 3",
   "language": "python",
   "name": "python3"
  },
  "language_info": {
   "codemirror_mode": {
    "name": "ipython",
    "version": 3
   },
   "file_extension": ".py",
   "mimetype": "text/x-python",
   "name": "python",
   "nbconvert_exporter": "python",
   "pygments_lexer": "ipython3",
   "version": "3.6.8"
  }
 },
 "nbformat": 4,
 "nbformat_minor": 2
}
